{
 "cells": [
  {
   "cell_type": "code",
   "execution_count": 46,
   "metadata": {
    "collapsed": false
   },
   "outputs": [
    {
     "name": "stdout",
     "output_type": "stream",
     "text": [
      "Items in training set : 105\n",
      "Items in test set     : 45\n",
      "\n",
      "Prediction: Iris-setosa\t\tActual: Iris-setosa\n",
      "Prediction: Iris-setosa\t\tActual: Iris-setosa\n",
      "Prediction: Iris-setosa\t\tActual: Iris-setosa\n",
      "Prediction: Iris-setosa\t\tActual: Iris-setosa\n",
      "Prediction: Iris-setosa\t\tActual: Iris-setosa\n",
      "Prediction: Iris-setosa\t\tActual: Iris-setosa\n",
      "Prediction: Iris-setosa\t\tActual: Iris-setosa\n",
      "Prediction: Iris-setosa\t\tActual: Iris-setosa\n",
      "Prediction: Iris-setosa\t\tActual: Iris-setosa\n",
      "Prediction: Iris-setosa\t\tActual: Iris-setosa\n",
      "Prediction: Iris-setosa\t\tActual: Iris-setosa\n",
      "Prediction: Iris-setosa\t\tActual: Iris-setosa\n",
      "Prediction: Iris-setosa\t\tActual: Iris-setosa\n",
      "Prediction: Iris-setosa\t\tActual: Iris-setosa\n",
      "Prediction: Iris-versicolor\t\tActual: Iris-versicolor\n",
      "Prediction: Iris-versicolor\t\tActual: Iris-versicolor\n",
      "Prediction: Iris-versicolor\t\tActual: Iris-versicolor\n",
      "Prediction: Iris-versicolor\t\tActual: Iris-versicolor\n",
      "Prediction: Iris-versicolor\t\tActual: Iris-versicolor\n",
      "Prediction: Iris-versicolor\t\tActual: Iris-versicolor\n",
      "Prediction: Iris-versicolor\t\tActual: Iris-versicolor\n",
      "Prediction: Iris-versicolor\t\tActual: Iris-versicolor\n",
      "Prediction: Iris-virginica\t\tActual: Iris-versicolor\n",
      "Prediction: Iris-versicolor\t\tActual: Iris-versicolor\n",
      "Prediction: Iris-versicolor\t\tActual: Iris-versicolor\n",
      "Prediction: Iris-versicolor\t\tActual: Iris-versicolor\n",
      "Prediction: Iris-versicolor\t\tActual: Iris-versicolor\n",
      "Prediction: Iris-versicolor\t\tActual: Iris-versicolor\n",
      "Prediction: Iris-versicolor\t\tActual: Iris-versicolor\n",
      "Prediction: Iris-virginica\t\tActual: Iris-virginica\n",
      "Prediction: Iris-virginica\t\tActual: Iris-virginica\n",
      "Prediction: Iris-versicolor\t\tActual: Iris-virginica\n",
      "Prediction: Iris-virginica\t\tActual: Iris-virginica\n",
      "Prediction: Iris-virginica\t\tActual: Iris-virginica\n",
      "Prediction: Iris-virginica\t\tActual: Iris-virginica\n",
      "Prediction: Iris-virginica\t\tActual: Iris-virginica\n",
      "Prediction: Iris-virginica\t\tActual: Iris-virginica\n",
      "Prediction: Iris-virginica\t\tActual: Iris-virginica\n",
      "Prediction: Iris-virginica\t\tActual: Iris-virginica\n",
      "Prediction: Iris-virginica\t\tActual: Iris-virginica\n",
      "Prediction: Iris-virginica\t\tActual: Iris-virginica\n",
      "Prediction: Iris-virginica\t\tActual: Iris-virginica\n",
      "Prediction: Iris-virginica\t\tActual: Iris-virginica\n",
      "Prediction: Iris-virginica\t\tActual: Iris-virginica\n",
      "Prediction: Iris-virginica\t\tActual: Iris-virginica\n",
      "\n",
      "\n",
      "Accuracy :95.55555555555556\n"
     ]
    }
   ],
   "source": [
    "import numpy as np\n",
    "import csv\n",
    "import math\n",
    "def loadDataset(filename, split):\n",
    "    trainSet_X=[]\n",
    "    trainSet_Y=[]\n",
    "    testSet_X= []\n",
    "    testSet_Y =[]\n",
    "    with open(filename, 'rt') as csvfile:\n",
    "        lines =csv.reader(csvfile)\n",
    "        dataset = list(lines)\n",
    "    for x in range(len(dataset)) :\n",
    "        for y in range(4):\n",
    "            dataset[x][y] = float(dataset[x][y])\n",
    "        if random.random() < split:\n",
    "            trainSet_X.append(dataset[x][0:3])\n",
    "            trainSet_Y.append(dataset[x][4])\n",
    "        else:\n",
    "            testSet_X.append(dataset[x][0:3])\n",
    "            testSet_Y.append(dataset[x][4])\n",
    "\n",
    "    return trainSet_X, trainSet_Y, testSet_X, testSet_Y\n",
    "\n",
    "\n",
    "\n",
    "trainSet_X, trainSet_Y, testSet_X, testSet_Y = loadDataset('iris.data', split=0.66)\n",
    "print('Items in training set :', len(trainSet_X))\n",
    "print('Items in test set     :', len(testSet_X), end='\\n\\n')\n",
    "\n",
    "# Create and fit a nearest-neighbor classifier\n",
    "from sklearn.neighbors import KNeighborsClassifier\n",
    "knn = KNeighborsClassifier(n_neighbors=5)\n",
    "knn.fit(trainSet_X, trainSet_Y) \n",
    "\n",
    "pred=knn.predict(testSet_X)\n",
    "for i in range(len(testSet_X)):\n",
    "    print(\"Prediction: \"+str(pred[i])+\"\\t\\tActual: \"+str(testSet_Y[i]))\n",
    "\n",
    "acc=0\n",
    "for i in range(len(testSet_X)):\n",
    "    acc+=(pred[i] == testSet_Y[i])\n",
    "\n",
    "acc=(acc/(len(testSet_X)))*100\n",
    "print(\"\\n\\nAccuracy :\"+str(acc))\n"
   ]
  },
  {
   "cell_type": "code",
   "execution_count": null,
   "metadata": {
    "collapsed": true
   },
   "outputs": [],
   "source": []
  }
 ],
 "metadata": {
  "kernelspec": {
   "display_name": "Python 3",
   "language": "python",
   "name": "python3"
  },
  "language_info": {
   "codemirror_mode": {
    "name": "ipython",
    "version": 3
   },
   "file_extension": ".py",
   "mimetype": "text/x-python",
   "name": "python",
   "nbconvert_exporter": "python",
   "pygments_lexer": "ipython3",
   "version": "3.6.3"
  }
 },
 "nbformat": 4,
 "nbformat_minor": 2
}
