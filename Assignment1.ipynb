{
 "cells": [
  {
   "cell_type": "code",
   "execution_count": 1,
   "metadata": {
    "collapsed": false
   },
   "outputs": [
    {
     "name": "stdout",
     "output_type": "stream",
     "text": [
      "[10 15 20]\n",
      "[20 15 10]\n"
     ]
    }
   ],
   "source": [
    "#Q.1 Reverse a vector (first element becomes last)\n",
    "\n",
    "import numpy as np\n",
    "x=np.arange(10,25,5)\n",
    "print(x)\n",
    "x=np.flip(x,0) \n",
    "#x[::-1]\n",
    "print(x)\n"
   ]
  },
  {
   "cell_type": "code",
   "execution_count": 6,
   "metadata": {
    "collapsed": false
   },
   "outputs": [
    {
     "name": "stdout",
     "output_type": "stream",
     "text": [
      "[[1 2 3]\n",
      " [4 5 6]\n",
      " [7 8 9]]\n"
     ]
    }
   ],
   "source": [
    "\n",
    "#Q.2 Create a 3x3 matrix with values ranging from 0 to 8 */\n",
    "\n",
    "import numpy as np\n",
    "a = np.array([[1,2,3],[4,5,6],[7,8,9]])\n",
    "print(a)"
   ]
  },
  {
   "cell_type": "code",
   "execution_count": 3,
   "metadata": {
    "collapsed": false
   },
   "outputs": [
    {
     "name": "stdout",
     "output_type": "stream",
     "text": [
      "[[1. 1. 1. 1.]\n",
      " [1. 0. 0. 1.]\n",
      " [1. 0. 0. 1.]\n",
      " [1. 1. 1. 1.]]\n"
     ]
    }
   ],
   "source": [
    "#Q.3 Create a 2d array with 1 on the border and 0 inside*/\n",
    "\n",
    "import numpy as np\n",
    "x = np.ones((4,4))\n",
    "x[1:-1,1:-1] = 0\n",
    "print(x)"
   ]
  },
  {
   "cell_type": "code",
   "execution_count": 10,
   "metadata": {
    "collapsed": false
   },
   "outputs": [
    {
     "data": {
      "text/plain": [
       "array([[ 13,  16],\n",
       "       [ 40,  52],\n",
       "       [ 67,  88],\n",
       "       [ 94, 124],\n",
       "       [121, 160]])"
      ]
     },
     "execution_count": 10,
     "metadata": {},
     "output_type": "execute_result"
    }
   ],
   "source": [
    "import numpy as np\n",
    "x = np.arange(0,15).reshape(5,3)\n",
    "y = np.arange(1,7).reshape(3,2)\n",
    "z=x.dot(y)\n",
    "z\n",
    "\n"
   ]
  },
  {
   "cell_type": "code",
   "execution_count": 14,
   "metadata": {
    "collapsed": false
   },
   "outputs": [
    {
     "name": "stdout",
     "output_type": "stream",
     "text": [
      "[-5.039292    4.51412269 -6.60272172 -9.26879748  1.97248944 -0.41042093\n",
      "  5.60549393  2.27859006  0.08483588  1.55820517]\n",
      "[ -6.   4.  -7. -10.   1.  -1.   5.   2.   0.   1.]\n",
      "[ -6.   4.  -7. -10.   1.  -1.   5.   2.   0.   1.]\n",
      "[ -6.   4.  -7. -10.   1.  -1.   5.   2.   0.   1.]\n",
      "[4 4 4 4 2 4 2 4 4 2]\n",
      "[4. 4. 4. 4. 2. 4. 2. 4. 4. 2.]\n"
     ]
    }
   ],
   "source": [
    "#extract integer part of random array\n",
    "m = np.random.normal(0,5,10)\n",
    "print(m)\n",
    "print (m - m%1)\n",
    "print (np.floor(m))\n",
    "print (np.ceil(m)-1)\n",
    "\n",
    "n = np.random.uniform(0,5,10)\n",
    "print (n.astype(int))\n",
    "print (np.trunc(n))"
   ]
  },
  {
   "cell_type": "code",
   "execution_count": 30,
   "metadata": {
    "collapsed": false
   },
   "outputs": [
    {
     "data": {
      "text/plain": [
       "False"
      ]
     },
     "execution_count": 30,
     "metadata": {},
     "output_type": "execute_result"
    }
   ],
   "source": [
    "#Python program to check two random arrays are equal or not\n",
    "x= np.random.rand(3,3)\n",
    "y = np.random.rand(3,3)\n",
    "np.array_equal(x, y)"
   ]
  },
  {
   "cell_type": "code",
   "execution_count": 31,
   "metadata": {
    "collapsed": false
   },
   "outputs": [
    {
     "name": "stdout",
     "output_type": "stream",
     "text": [
      "[[0.49183803 0.95275616 0.496778  ]\n",
      " [0.24889284 0.88451947 0.00605879]\n",
      " [0.27058384 0.63371887 0.28862525]]\n",
      "0.9527561565778767\n"
     ]
    }
   ],
   "source": [
    "#Python program to find the nearest value from a given value in an array\n",
    "x= np.random.rand(3,3)\n",
    "print(x)\n",
    "v=1\n",
    "n = x.flat[np.abs(x - v).argmin()]\n",
    "print(n)"
   ]
  },
  {
   "cell_type": "code",
   "execution_count": 39,
   "metadata": {
    "collapsed": false
   },
   "outputs": [
    {
     "data": {
      "text/plain": [
       "array([8, 7, 6])"
      ]
     },
     "execution_count": 39,
     "metadata": {},
     "output_type": "execute_result"
    }
   ],
   "source": [
    "#Python program to get the n largest values of an array\n",
    "#def largest_indices(ary, n):\n",
    "#     \"\"\"Returns the n largest indices from a numpy array.\"\"\"\n",
    "#     flat = ary.flatten()\n",
    "#     indices = np.argpartition(flat, -n)[-n:]\n",
    "#     indices = indices[np.argsort(-flat[indices])]\n",
    "#     return np.unravel_index(indices, ary.shape)\n",
    "\n",
    "# x= np.random.randint(3,3)\n",
    "# print(x)\n",
    "# print(largest_indices(x,3)\n",
    "# )*/\n",
    "n=3\n",
    "arr = np.arange(9).reshape(3,3)\n",
    "np.random.shuffle(arr)\n",
    "arrf = arr.flat\n",
    "ind = np.argsort(arrf)\n",
    "arrf = arrf[ind]\n",
    "arrf = arrf[::-1]\n",
    "arrf[0:n]"
   ]
  },
  {
   "cell_type": "code",
   "execution_count": 41,
   "metadata": {
    "collapsed": false
   },
   "outputs": [
    {
     "name": "stdout",
     "output_type": "stream",
     "text": [
      "[13  7 16  1 17 18  6  0 13  3 10 12 10  4 15]\n",
      "16\n"
     ]
    }
   ],
   "source": [
    "#How to find the closest value (to a given scalar) in an array?\n",
    "x= np.random.randint(20, size=15)\n",
    "print(x)\n",
    "v=16\n",
    "#v is the scalar\n",
    "n = x.flat[np.abs(x - v).argmin()]\n",
    "print(n)"
   ]
  },
  {
   "cell_type": "code",
   "execution_count": 48,
   "metadata": {
    "collapsed": false
   },
   "outputs": [
    {
     "name": "stdout",
     "output_type": "stream",
     "text": [
      "[ 2 11  3 10 17 -1 14  3 16  5  8  2 15 16  2]\n"
     ]
    }
   ],
   "source": [
    "#Python program to create random vector of size 15 and replace the maximum value by -1\n",
    "\n",
    "j = np.random.randint(20, size=15)\n",
    "max = j.max()\n",
    "while (j.max() == max):\n",
    "    x = j.argmax()\n",
    "    j[x]=-1\n",
    "print(j)"
   ]
  },
  {
   "cell_type": "code",
   "execution_count": 66,
   "metadata": {
    "collapsed": false
   },
   "outputs": [
    {
     "name": "stdout",
     "output_type": "stream",
     "text": [
      "[[ 0. 34. 62. ... 41. 69. 48.]\n",
      " [34.  0. 28. ...  7. 35. 14.]\n",
      " [62. 28.  0. ... 21.  7. 14.]\n",
      " ...\n",
      " [41.  7. 21. ...  0. 28.  7.]\n",
      " [69. 35.  7. ... 28.  0. 21.]\n",
      " [48. 14. 14. ...  7. 21.  0.]]\n"
     ]
    }
   ],
   "source": [
    "#Consider a random vector with shape (100,2) representing coordinates, find point by point distance\n",
    "import math\n",
    "x = np.random.randint(5, 95, size=200).reshape(100,2)\n",
    "z = np.zeros((100,100))\n",
    "\n",
    "for i in range(0,100) :\n",
    "    for j in range(0,100) :\n",
    "        z[i,j] = np.trunc(math.sqrt(pow(x[i,0]-x[j,0],2)+pow(x[j,1]-x[j,1],2)))\n",
    "        \n",
    "print(z)"
   ]
  },
  {
   "cell_type": "code",
   "execution_count": 68,
   "metadata": {
    "collapsed": false
   },
   "outputs": [
    {
     "name": "stdout",
     "output_type": "stream",
     "text": [
      "[[ 2  4 10]\n",
      " [ 5 10  7]\n",
      " [ 3  1  5]]\n",
      "[[ 3  1  5]\n",
      " [ 5 10  7]\n",
      " [ 2  4 10]]\n"
     ]
    }
   ],
   "source": [
    "#How to I sort an array by the nth column?\n",
    "\n",
    "x = np.random.randint(1,11,(3,3))\n",
    "y = x[:,2].argsort()\n",
    "print(x)\n",
    "print(x[y])"
   ]
  },
  {
   "cell_type": "code",
   "execution_count": 71,
   "metadata": {
    "collapsed": false
   },
   "outputs": [
    {
     "name": "stdout",
     "output_type": "stream",
     "text": [
      "[[42 68 50]\n",
      " [36 57 67]\n",
      " [45 40 57]\n",
      " [61 66 77]]\n"
     ]
    }
   ],
   "source": [
    "#Considering a four dimensions array, how to get sum over the last two axis at once\n",
    "\n",
    "A=np.random.randint(0,10,(4,3,4,3))\n",
    "# print(A)\n",
    "sum=A.sum(axis=(2,3))\n",
    "print(sum)\n"
   ]
  },
  {
   "cell_type": "code",
   "execution_count": 77,
   "metadata": {
    "collapsed": false
   },
   "outputs": [
    {
     "name": "stdout",
     "output_type": "stream",
     "text": [
      "[ 6 10  8  2  4  4  7  2  3  8]\n",
      "2\n"
     ]
    }
   ],
   "source": [
    "#How to find the most frequent value in an array\n",
    "a = np.random.randint(1,11,10)\n",
    "counts = np.bincount(a)\n",
    "print(a)\n",
    "print (np.argmax(counts))"
   ]
  },
  {
   "cell_type": "code",
   "execution_count": null,
   "metadata": {
    "collapsed": true
   },
   "outputs": [],
   "source": []
  },
  {
   "cell_type": "code",
   "execution_count": null,
   "metadata": {
    "collapsed": true
   },
   "outputs": [],
   "source": []
  }
 ],
 "metadata": {
  "kernelspec": {
   "display_name": "Python 3",
   "language": "python",
   "name": "python3"
  },
  "language_info": {
   "codemirror_mode": {
    "name": "ipython",
    "version": 3
   },
   "file_extension": ".py",
   "mimetype": "text/x-python",
   "name": "python",
   "nbconvert_exporter": "python",
   "pygments_lexer": "ipython3",
   "version": "3.6.3"
  }
 },
 "nbformat": 4,
 "nbformat_minor": 2
}
